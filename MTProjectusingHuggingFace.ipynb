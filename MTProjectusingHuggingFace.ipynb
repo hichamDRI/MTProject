{
 "cells": [
  {
   "cell_type": "code",
   "execution_count": 1,
   "id": "cb04a219",
   "metadata": {},
   "outputs": [],
   "source": [
    "!pip install -q git+https://github.com/huggingface/transformers.git"
   ]
  },
  {
   "cell_type": "markdown",
   "id": "87aaec93",
   "metadata": {},
   "source": [
    "# Import SeqToSeq Model and Tokenizer"
   ]
  },
  {
   "cell_type": "code",
   "execution_count": 2,
   "id": "7750b428",
   "metadata": {},
   "outputs": [],
   "source": [
    "from transformers import AutoModelForSeq2SeqLM, AutoTokenizer"
   ]
  },
  {
   "cell_type": "markdown",
   "id": "4dc37ad8",
   "metadata": {},
   "source": [
    "# Train models"
   ]
  },
  {
   "cell_type": "code",
   "execution_count": 3,
   "id": "5fb49c8c",
   "metadata": {},
   "outputs": [],
   "source": [
    "def download_model(model_name):\n",
    "    model = AutoModelForSeq2SeqLM.from_pretrained(model_name)\n",
    "    tokenizer = AutoTokenizer.from_pretrained(model_name,use_fast=False)\n",
    "    return model, tokenizer"
   ]
  },
  {
   "cell_type": "code",
   "execution_count": 4,
   "id": "9c4fd1b5",
   "metadata": {},
   "outputs": [],
   "source": [
    "model_name_fr_ar=\"Helsinki-NLP/opus-mt-fr-ar\"\n",
    "model_fr_ar, tokenizer_fr_ar = download_model(model_name_fr_ar)\n",
    "model_name_ar_fr=\"Helsinki-NLP/opus-mt-ar-fr\"\n",
    "model_ar_fr, tokenizer_ar_fr = download_model(model_name_ar_fr)"
   ]
  },
  {
   "cell_type": "markdown",
   "id": "1546f71f",
   "metadata": {},
   "source": [
    "# Encode the input text and decode the output result"
   ]
  },
  {
   "cell_type": "markdown",
   "id": "5cb513b8",
   "metadata": {},
   "source": [
    "## Frensh To Arabic "
   ]
  },
  {
   "cell_type": "code",
   "execution_count": 6,
   "id": "f8ecb4f0",
   "metadata": {},
   "outputs": [
    {
     "name": "stdout",
     "output_type": "stream",
     "text": [
      "Translation Result : وفي بيان أصدره المجلس يوم الأربعاء، ذكر المجلس أن هذه الهيئات من أفريقيا وأوروبا وآسيا، التي يتم اختيارها بعد تجهيز ملفاتها، على أساس المؤهلات المطلوبة، ستقوم بمهمة المراقبة في الدوائر الانتخابية التي تختارها، على مستوى ١٢ إقليما من أقاليم المملكة.\n"
     ]
    }
   ],
   "source": [
    "text=\"Un communiqué du Conseil, publié mercredi, indique que ces organes originaires d’Afrique, d’Europe et d’Asie, et retenus après instruction de leur dossier, sur la base des conditions requises, exerceraient leur mission d’observation dans les circonscriptions électorales de leur choix, au niveau des douze régions du Royaume.\"\n",
    "inputs = tokenizer_fr_ar.encode(text, return_tensors=\"pt\")\n",
    "outputs = model_fr_ar.generate(inputs, max_length=128, num_beams=4, early_stopping=True)\n",
    "out=tokenizer_fr_ar.decode(outputs[0])\n",
    "print('Translation Result :'+ str(out).strip('<pad>'))"
   ]
  },
  {
   "cell_type": "markdown",
   "id": "a9d4d0bc",
   "metadata": {},
   "source": [
    "## Arabic To Frensh "
   ]
  },
  {
   "cell_type": "code",
   "execution_count": 7,
   "id": "06922222",
   "metadata": {},
   "outputs": [
    {
     "name": "stdout",
     "output_type": "stream",
     "text": [
      "Translation Result :  La demande de création d &apos; un établissement d &apos; enseignement universitaire à Pitznet, afin de permettre aux étudiantes et aux étudiants du territoire de poursuivre leurs études supérieures près de leur résidence, est renouvelée à chaque date des élections collectives et législatives.\n"
     ]
    }
   ],
   "source": [
    "text=\"يتجدد مع كل موعد للانتخابات الجماعية والتشريعية مطلب إحداث مؤسسة جامعية بتزنيت، لتمكين طالبات وطلبة الإقليم من متابعة تعليمهم العالي بالقرب من مقرات سكناهم.\"\n",
    "inputs = tokenizer_ar_fr.encode(text, return_tensors=\"pt\")\n",
    "outputs = model_ar_fr.generate(inputs, max_length=128, num_beams=4, early_stopping=True)\n",
    "out=tokenizer_ar_fr.decode(outputs[0])\n",
    "print('Translation Result :', str(out).strip('<pad>'))"
   ]
  },
  {
   "cell_type": "code",
   "execution_count": null,
   "id": "1b588654",
   "metadata": {},
   "outputs": [],
   "source": []
  }
 ],
 "metadata": {
  "kernelspec": {
   "display_name": "Python 3",
   "language": "python",
   "name": "python3"
  },
  "language_info": {
   "codemirror_mode": {
    "name": "ipython",
    "version": 3
   },
   "file_extension": ".py",
   "mimetype": "text/x-python",
   "name": "python",
   "nbconvert_exporter": "python",
   "pygments_lexer": "ipython3",
   "version": "3.8.8"
  }
 },
 "nbformat": 4,
 "nbformat_minor": 5
}
